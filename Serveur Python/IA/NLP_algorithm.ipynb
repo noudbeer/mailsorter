{
 "cells": [
  {
   "cell_type": "code",
   "execution_count": 3,
   "metadata": {},
   "outputs": [
    {
     "name": "stdout",
     "output_type": "stream",
     "text": [
      "3.7\n"
     ]
    }
   ],
   "source": [
    "#nltk\n",
    "import nltk\n",
    "print(nltk.__version__)"
   ]
  },
  {
   "cell_type": "code",
   "execution_count": 4,
   "metadata": {},
   "outputs": [
    {
     "name": "stdout",
     "output_type": "stream",
     "text": [
      "4.2.0\n"
     ]
    }
   ],
   "source": [
    "#gensim\n",
    "import gensim\n",
    "print(gensim.__version__)"
   ]
  },
  {
   "cell_type": "markdown",
   "metadata": {},
   "source": [
    "## Import des données"
   ]
  },
  {
   "cell_type": "code",
   "execution_count": 5,
   "metadata": {},
   "outputs": [],
   "source": [
    "#pandas & dataframe\n",
    "import pandas\n",
    "df = pandas.read_excel(\"./datas.ods\")\n"
   ]
  },
  {
   "cell_type": "markdown",
   "metadata": {},
   "source": [
    "## Nettoyage du corpus"
   ]
  },
  {
   "cell_type": "code",
   "execution_count": 6,
   "metadata": {},
   "outputs": [
    {
     "data": {
      "text/plain": [
       "['I admit, the great majority of films released before say 1933 are just not for me. Of the dozen or so \"major\" silents I have viewed, one I loved (The Crowd), and two were very good (The Last Command and City Lights, that latter Chaplin circa 1931).<br /><br />So I was apprehensive about this one, and humor is often difficult to appreciate (uh, enjoy) decades later. I did like the lead actors, but thought little of the film.<br /><br />One intriguing sequence. Early on, the guys are supposed to get \"de-loused\" and for about three minutes, fully dressed, do some schtick. In the background, perhaps three dozen men pass by, all naked, white and black (WWI ?), and for most, their butts, part or full backside, are shown. Was this an early variation of beefcake courtesy of Howard Hughes?',\n",
       " 'This is a very strange film that was long thought to be forgotten. It\\'s the story of two American Army buddies, William Boyd (aka \"Hopalong Cassidy\") and Louis Wolheim, and their adventures as they manage to escape from a German prison camp during WWI. However, as this is a comedy, the duo manage to make the most round about and stupid escape--accidentally boarding a train to Constantinople to be placed in a Turkish prisoner of war camp! On the way, they manage to escape once again and end up in quite the adventure--meeting sexy Mary Astor along the way.<br /><br />As far as the film goes, it was a rather funny script and despite being a silly plot, it worked rather well. The chemistry between Boyd and Wolheim worked and the film managed to be quite entertaining. Oddly, however, the film managed to beat out Harold Lloyd\\'s film, SPEEDY, for an Oscar for Best Direction for a Comedy (a category no longer used)--as SPEEDY was a superior film in most ways (it\\'s one of Lloyd\\'s best films). Still, it\\'s well worth a look--especially if you love silent films.<br /><br />By the way, director Milestone and Louis Walheim would team up just a few years later for another WWI picture, the great ALL QUIET ON THE WESTERN FRONT--a film that is definitely NOT a comedy.',\n",
       " 'William Boyd and Louis Wolheim are the \"Two Arabian Knights\" referred to in the title, humorously. The pair start out as U.S. POWs trying to escape from the Germans during World War I. Eventually, they find themselves on board a ship bound for Arabia. While tripping out to the Middle East, they rescue an Arab woman, Mary Astor, who turns out to be a Princess; and, of course, becomes a romantic interest for the \"Two Arabian Knights\". No points for guessing who wins the veiled Ms. Astor!<br /><br />The film is very well photographed and directed; Lewis Milestone has wonderful sets, and stages scenes beautifully. Of the performances, Mr. Wolheim stands out - he creates a character so understandable you can almost hear him speak, trough the film is silent. The story isn\\'t as strong as it could be - there are some events and sequences which had me wondering how and why the characters\\' locale changed. The last looks, exchanged between one of the stars and an extra, is an example of something I didn\\'t understand. Perhaps these were comic bits which had a particular appeal for the time.<br /><br />The film is damaged in several places; but there is enough preserved, in even these scenes, to allow your mind to fill in the visual blanks. Boris Karloff appears as the \"Purser\"; watch for his big scene on ship, when Wolheim goes into a room with him for some money (what actually happens is a mystery). Early in the film, there is a long scene with a lot of naked men shown from the waist up (or, thereabouts); they are POWs being herded to the showers. Director Milestone uses parades of soldiers moving to great effect; this \"shower\" scene is different in that several of the men don\\'t look as Caucasian as you might expect - maybe not as many Caucasian men would agree to appear nude? <br /><br />******* Two Arabian Knights (9/23/27) Lewis Milestone ~ William Boyd, Louis Wolheim, Mary Astor',\n",
       " 'Not very many movies come to my mind that covered as much geography as this one.<br /><br />Naturally, being a Hollywood product, there is not a whole lot of realism here, but there is a whole lot of entertainment, and a whole lot of talent.<br /><br />Louis Wollheim apparently never became a household name, but his performance in this film would indicate he should have.<br /><br />In one priceless scene, when, without inter-titles, the Bill Boyd character whispers the explanation of a word (often found in the Bible), Wollheim\\'s expression almost makes the whole movie worthwhile.<br /><br />Lewis Milestone\\'s direction is another plus. This was still early in his career, but his use of inventive angles and a moving camera showed brilliance.<br /><br />Ian Keith made a superb suave villain in one of his best roles.<br /><br />Being a silent film, \"Two Arabian Knights\" probably won\\'t be shown even on Turner Classic Movies very often, but I urge film fans to grab any opportunity to watch it.']"
      ]
     },
     "execution_count": 6,
     "metadata": {},
     "output_type": "execute_result"
    }
   ],
   "source": [
    "#récupérer sous forme de liste\n",
    "corpus = df['review'].tolist()\n",
    "\n",
    "corpus = \"La révolution industrielle a marqué une étape majeure dans l'histoire de l'humanité. Elle a permis de transformer radicalement les modes de production et de consommation, et d'améliorer significativement les conditions de vie des populations. Grâce à l'industrialisation, les pays ont pu se doter d'une économie plus dynamique et plus performante. De nouvelles technologies ont vu le jour, favorisant ainsi l'essor de l'innovation et de la recherche. La révolution industrielle a également contribué à l'émergence de grandes puissances économiques, notamment en Europe et en Amérique du Nord.\""
   ]
  },
  {
   "cell_type": "code",
   "execution_count": 9,
   "metadata": {},
   "outputs": [
    {
     "data": {
      "text/plain": [
       "['i admit, the great majority of films released before say 1933 are just not for me. of the dozen or so \"major\" silents i have viewed, one i loved (the crowd), and two were very good (the last command and city lights, that latter chaplin circa 1931).<br /><br />so i was apprehensive about this one, and humor is often difficult to appreciate (uh, enjoy) decades later. i did like the lead actors, but thought little of the film.<br /><br />one intriguing sequence. early on, the guys are supposed to get \"de-loused\" and for about three minutes, fully dressed, do some schtick. in the background, perhaps three dozen men pass by, all naked, white and black (wwi ?), and for most, their butts, part or full backside, are shown. was this an early variation of beefcake courtesy of howard hughes?',\n",
       " 'this is a very strange film that was long thought to be forgotten. it\\'s the story of two american army buddies, william boyd (aka \"hopalong cassidy\") and louis wolheim, and their adventures as they manage to escape from a german prison camp during wwi. however, as this is a comedy, the duo manage to make the most round about and stupid escape--accidentally boarding a train to constantinople to be placed in a turkish prisoner of war camp! on the way, they manage to escape once again and end up in quite the adventure--meeting sexy mary astor along the way.<br /><br />as far as the film goes, it was a rather funny script and despite being a silly plot, it worked rather well. the chemistry between boyd and wolheim worked and the film managed to be quite entertaining. oddly, however, the film managed to beat out harold lloyd\\'s film, speedy, for an oscar for best direction for a comedy (a category no longer used)--as speedy was a superior film in most ways (it\\'s one of lloyd\\'s best films). still, it\\'s well worth a look--especially if you love silent films.<br /><br />by the way, director milestone and louis walheim would team up just a few years later for another wwi picture, the great all quiet on the western front--a film that is definitely not a comedy.',\n",
       " 'william boyd and louis wolheim are the \"two arabian knights\" referred to in the title, humorously. the pair start out as u.s. pows trying to escape from the germans during world war i. eventually, they find themselves on board a ship bound for arabia. while tripping out to the middle east, they rescue an arab woman, mary astor, who turns out to be a princess; and, of course, becomes a romantic interest for the \"two arabian knights\". no points for guessing who wins the veiled ms. astor!<br /><br />the film is very well photographed and directed; lewis milestone has wonderful sets, and stages scenes beautifully. of the performances, mr. wolheim stands out - he creates a character so understandable you can almost hear him speak, trough the film is silent. the story isn\\'t as strong as it could be - there are some events and sequences which had me wondering how and why the characters\\' locale changed. the last looks, exchanged between one of the stars and an extra, is an example of something i didn\\'t understand. perhaps these were comic bits which had a particular appeal for the time.<br /><br />the film is damaged in several places; but there is enough preserved, in even these scenes, to allow your mind to fill in the visual blanks. boris karloff appears as the \"purser\"; watch for his big scene on ship, when wolheim goes into a room with him for some money (what actually happens is a mystery). early in the film, there is a long scene with a lot of naked men shown from the waist up (or, thereabouts); they are pows being herded to the showers. director milestone uses parades of soldiers moving to great effect; this \"shower\" scene is different in that several of the men don\\'t look as caucasian as you might expect - maybe not as many caucasian men would agree to appear nude? <br /><br />******* two arabian knights (9/23/27) lewis milestone ~ william boyd, louis wolheim, mary astor',\n",
       " 'not very many movies come to my mind that covered as much geography as this one.<br /><br />naturally, being a hollywood product, there is not a whole lot of realism here, but there is a whole lot of entertainment, and a whole lot of talent.<br /><br />louis wollheim apparently never became a household name, but his performance in this film would indicate he should have.<br /><br />in one priceless scene, when, without inter-titles, the bill boyd character whispers the explanation of a word (often found in the bible), wollheim\\'s expression almost makes the whole movie worthwhile.<br /><br />lewis milestone\\'s direction is another plus. this was still early in his career, but his use of inventive angles and a moving camera showed brilliance.<br /><br />ian keith made a superb suave villain in one of his best roles.<br /><br />being a silent film, \"two arabian knights\" probably won\\'t be shown even on turner classic movies very often, but i urge film fans to grab any opportunity to watch it.']"
      ]
     },
     "execution_count": 9,
     "metadata": {},
     "output_type": "execute_result"
    }
   ],
   "source": [
    "#Minuscules\n",
    "corpus = list(map(lambda word: word.lower(), corpus))\n",
    "corpus"
   ]
  },
  {
   "cell_type": "code",
   "execution_count": 10,
   "metadata": {},
   "outputs": [
    {
     "name": "stdout",
     "output_type": "stream",
     "text": [
      "['!', '\"', '#', '$', '%', '&', \"'\", '(', ')', '*', '+', ',', '-', '.', '/', ':', ';', '<', '=', '>', '?', '@', '[', '\\\\', ']', '^', '_', '`', '{', '|', '}', '~']\n"
     ]
    }
   ],
   "source": [
    "#liste des ponctuations\n",
    "import string\n",
    "ponctuations = list(string.punctuation)\n",
    "print(ponctuations)"
   ]
  },
  {
   "cell_type": "code",
   "execution_count": 11,
   "metadata": {},
   "outputs": [
    {
     "name": "stdout",
     "output_type": "stream",
     "text": [
      "i admit the great majority of films released before say 1933 are just not for me of the dozen or so major silents i have viewed one i loved the crowd and two were very good the last command and city lights that latter chaplin circa 1931br br so i was apprehensive about this one and humor is often difficult to appreciate uh enjoy decades later i did like the lead actors but thought little of the filmbr br one intriguing sequence early on the guys are supposed to get deloused and for about three minutes fully dressed do some schtick in the background perhaps three dozen men pass by all naked white and black wwi  and for most their butts part or full backside are shown was this an early variation of beefcake courtesy of howard hughes\n"
     ]
    }
   ],
   "source": [
    "#retrait des ponctuations\n",
    "corpus = [\"\".join([char for char in list(doc) if not (char in ponctuations)]) for doc in corpus]\n",
    "print(corpus[0])"
   ]
  },
  {
   "cell_type": "markdown",
   "metadata": {},
   "source": [
    " ## Tokénisation avec nltk"
   ]
  },
  {
   "cell_type": "code",
   "execution_count": 12,
   "metadata": {},
   "outputs": [
    {
     "name": "stderr",
     "output_type": "stream",
     "text": [
      "[nltk_data] Downloading package punkt to\n",
      "[nltk_data]     C:\\Users\\Paul\\AppData\\Roaming\\nltk_data...\n",
      "[nltk_data]   Unzipping tokenizers\\punkt.zip.\n"
     ]
    },
    {
     "data": {
      "text/plain": [
       "True"
      ]
     },
     "execution_count": 12,
     "metadata": {},
     "output_type": "execute_result"
    }
   ],
   "source": [
    "#Modèle de tokénisation\n",
    "nltk.download('punkt')"
   ]
  },
  {
   "cell_type": "code",
   "execution_count": 13,
   "metadata": {},
   "outputs": [
    {
     "name": "stdout",
     "output_type": "stream",
     "text": [
      "i admit the great majority of films released before say 1933 are just not for me of the dozen or so major silents i have viewed one i loved the crowd and two were very good the last command and city lights that latter chaplin circa 1931br br so i was apprehensive about this one and humor is often difficult to appreciate uh enjoy decades later i did like the lead actors but thought little of the filmbr br one intriguing sequence early on the guys are supposed to get deloused and for about three minutes fully dressed do some schtick in the background perhaps three dozen men pass by all naked white and black wwi  and for most their butts part or full backside are shown was this an early variation of beefcake courtesy of howard hughes\n",
      "['i', 'admit', 'the', 'great', 'majority', 'of', 'films', 'released', 'before', 'say', '1933', 'are', 'just', 'not', 'for', 'me', 'of', 'the', 'dozen', 'or', 'so', 'major', 'silents', 'i', 'have', 'viewed', 'one', 'i', 'loved', 'the', 'crowd', 'and', 'two', 'were', 'very', 'good', 'the', 'last', 'command', 'and', 'city', 'lights', 'that', 'latter', 'chaplin', 'circa', '1931br', 'br', 'so', 'i', 'was', 'apprehensive', 'about', 'this', 'one', 'and', 'humor', 'is', 'often', 'difficult', 'to', 'appreciate', 'uh', 'enjoy', 'decades', 'later', 'i', 'did', 'like', 'the', 'lead', 'actors', 'but', 'thought', 'little', 'of', 'the', 'filmbr', 'br', 'one', 'intriguing', 'sequence', 'early', 'on', 'the', 'guys', 'are', 'supposed', 'to', 'get', 'deloused', 'and', 'for', 'about', 'three', 'minutes', 'fully', 'dressed', 'do', 'some', 'schtick', 'in', 'the', 'background', 'perhaps', 'three', 'dozen', 'men', 'pass', 'by', 'all', 'naked', 'white', 'and', 'black', 'wwi', 'and', 'for', 'most', 'their', 'butts', 'part', 'or', 'full', 'backside', 'are', 'shown', 'was', 'this', 'an', 'early', 'variation', 'of', 'beefcake', 'courtesy', 'of', 'howard', 'hughes']\n"
     ]
    }
   ],
   "source": [
    "#transformer le corpus en list de listes (docs) par tokénisation\n",
    "from nltk.tokenize import word_tokenize\n",
    "corpus_tk = [word_tokenize(doc) for doc in corpus]\n",
    "\n",
    "#avant tokénisation\n",
    "print(corpus[0])\n",
    "\n",
    "#après tokénisation\n",
    "print(corpus_tk[0])"
   ]
  },
  {
   "cell_type": "code",
   "execution_count": 14,
   "metadata": {},
   "outputs": [
    {
     "name": "stderr",
     "output_type": "stream",
     "text": [
      "[nltk_data] Downloading package omw-1.4 to\n",
      "[nltk_data]     C:\\Users\\Paul\\AppData\\Roaming\\nltk_data...\n",
      "[nltk_data] Downloading package wordnet to\n",
      "[nltk_data]     C:\\Users\\Paul\\AppData\\Roaming\\nltk_data...\n"
     ]
    },
    {
     "data": {
      "text/plain": [
       "True"
      ]
     },
     "execution_count": 14,
     "metadata": {},
     "output_type": "execute_result"
    }
   ],
   "source": [
    "#importation librairie pour lemantisation\n",
    "import nltk\n",
    "nltk.download('omw-1.4')\n",
    "nltk.download('wordnet')\n"
   ]
  },
  {
   "cell_type": "code",
   "execution_count": 15,
   "metadata": {},
   "outputs": [
    {
     "name": "stdout",
     "output_type": "stream",
     "text": [
      "['i', 'admit', 'the', 'great', 'majority', 'of', 'film', 'released', 'before', 'say', '1933', 'are', 'just', 'not', 'for', 'me', 'of', 'the', 'dozen', 'or', 'so', 'major', 'silents', 'i', 'have', 'viewed', 'one', 'i', 'loved', 'the', 'crowd', 'and', 'two', 'were', 'very', 'good', 'the', 'last', 'command', 'and', 'city', 'light', 'that', 'latter', 'chaplin', 'circa', '1931br', 'br', 'so', 'i', 'wa', 'apprehensive', 'about', 'this', 'one', 'and', 'humor', 'is', 'often', 'difficult', 'to', 'appreciate', 'uh', 'enjoy', 'decade', 'later', 'i', 'did', 'like', 'the', 'lead', 'actor', 'but', 'thought', 'little', 'of', 'the', 'filmbr', 'br', 'one', 'intriguing', 'sequence', 'early', 'on', 'the', 'guy', 'are', 'supposed', 'to', 'get', 'deloused', 'and', 'for', 'about', 'three', 'minute', 'fully', 'dressed', 'do', 'some', 'schtick', 'in', 'the', 'background', 'perhaps', 'three', 'dozen', 'men', 'pas', 'by', 'all', 'naked', 'white', 'and', 'black', 'wwi', 'and', 'for', 'most', 'their', 'butt', 'part', 'or', 'full', 'backside', 'are', 'shown', 'wa', 'this', 'an', 'early', 'variation', 'of', 'beefcake', 'courtesy', 'of', 'howard', 'hughes']\n"
     ]
    }
   ],
   "source": [
    "#lemmatisation\n",
    "#normalise un texte suivant le context identifié\n",
    "# ex (suis,es,est,sommes,êtes,sont ==> être)\n",
    "\n",
    "from nltk.stem import WordNetLemmatizer\n",
    "lem = WordNetLemmatizer()\n",
    "corpus_ln = [[lem.lemmatize(word) for word in doc] for doc in corpus_tk]\n",
    "print(corpus_ln[0])\n"
   ]
  },
  {
   "cell_type": "code",
   "execution_count": 16,
   "metadata": {},
   "outputs": [
    {
     "name": "stderr",
     "output_type": "stream",
     "text": [
      "[nltk_data] Downloading package stopwords to\n",
      "[nltk_data]     C:\\Users\\Paul\\AppData\\Roaming\\nltk_data...\n",
      "[nltk_data]   Unzipping corpora\\stopwords.zip.\n"
     ]
    },
    {
     "data": {
      "text/plain": [
       "True"
      ]
     },
     "execution_count": 16,
     "metadata": {},
     "output_type": "execute_result"
    }
   ],
   "source": [
    "#importer la librairie des stopwords\n",
    "nltk.download('stopwords')"
   ]
  },
  {
   "cell_type": "code",
   "execution_count": 17,
   "metadata": {},
   "outputs": [
    {
     "name": "stdout",
     "output_type": "stream",
     "text": [
      "['i', 'me', 'my', 'myself', 'we', 'our', 'ours', 'ourselves', 'you', \"you're\", \"you've\", \"you'll\", \"you'd\", 'your', 'yours', 'yourself', 'yourselves', 'he', 'him', 'his', 'himself', 'she', \"she's\", 'her', 'hers', 'herself', 'it', \"it's\", 'its', 'itself', 'they', 'them', 'their', 'theirs', 'themselves', 'what', 'which', 'who', 'whom', 'this', 'that', \"that'll\", 'these', 'those', 'am', 'is', 'are', 'was', 'were', 'be', 'been', 'being', 'have', 'has', 'had', 'having', 'do', 'does', 'did', 'doing', 'a', 'an', 'the', 'and', 'but', 'if', 'or', 'because', 'as', 'until', 'while', 'of', 'at', 'by', 'for', 'with', 'about', 'against', 'between', 'into', 'through', 'during', 'before', 'after', 'above', 'below', 'to', 'from', 'up', 'down', 'in', 'out', 'on', 'off', 'over', 'under', 'again', 'further', 'then', 'once', 'here', 'there', 'when', 'where', 'why', 'how', 'all', 'any', 'both', 'each', 'few', 'more', 'most', 'other', 'some', 'such', 'no', 'nor', 'not', 'only', 'own', 'same', 'so', 'than', 'too', 'very', 's', 't', 'can', 'will', 'just', 'don', \"don't\", 'should', \"should've\", 'now', 'd', 'll', 'm', 'o', 're', 've', 'y', 'ain', 'aren', \"aren't\", 'couldn', \"couldn't\", 'didn', \"didn't\", 'doesn', \"doesn't\", 'hadn', \"hadn't\", 'hasn', \"hasn't\", 'haven', \"haven't\", 'isn', \"isn't\", 'ma', 'mightn', \"mightn't\", 'mustn', \"mustn't\", 'needn', \"needn't\", 'shan', \"shan't\", 'shouldn', \"shouldn't\", 'wasn', \"wasn't\", 'weren', \"weren't\", 'won', \"won't\", 'wouldn', \"wouldn't\"]\n"
     ]
    }
   ],
   "source": [
    "#charger les stopwords, en anglais pour le test\n",
    "#les stopwords sont des mots qui apporte du bruit à l'analyse, on souhaite les retirer\n",
    "from nltk.corpus import stopwords\n",
    "stop_words = stopwords.words('english')\n",
    "print(stop_words)"
   ]
  },
  {
   "cell_type": "code",
   "execution_count": 73,
   "metadata": {},
   "outputs": [],
   "source": [
    "#On pourrait rajouter des stopwords lier à un théme \n",
    "#ex théme du cinéma\n",
    "# stop_words.extend(['movie', 'film','story'])"
   ]
  },
  {
   "cell_type": "code",
   "execution_count": 18,
   "metadata": {},
   "outputs": [
    {
     "name": "stdout",
     "output_type": "stream",
     "text": [
      "['admit', 'great', 'majority', 'film', 'released', 'say', '1933', 'dozen', 'major', 'silents', 'viewed', 'one', 'loved', 'crowd', 'two', 'good', 'last', 'command', 'city', 'light', 'latter', 'chaplin', 'circa', '1931br', 'br', 'wa', 'apprehensive', 'one', 'humor', 'often', 'difficult', 'appreciate', 'uh', 'enjoy', 'decade', 'later', 'like', 'lead', 'actor', 'thought', 'little', 'filmbr', 'br', 'one', 'intriguing', 'sequence', 'early', 'guy', 'supposed', 'get', 'deloused', 'three', 'minute', 'fully', 'dressed', 'schtick', 'background', 'perhaps', 'three', 'dozen', 'men', 'pas', 'naked', 'white', 'black', 'wwi', 'butt', 'part', 'full', 'backside', 'shown', 'wa', 'early', 'variation', 'beefcake', 'courtesy', 'howard', 'hughes']\n"
     ]
    }
   ],
   "source": [
    "#suppression des stopwords\n",
    "corpus_sw = [[mot for mot in doc if not mot in stop_words] for doc in corpus_ln]\n",
    "print(corpus_sw[0])"
   ]
  },
  {
   "cell_type": "code",
   "execution_count": 19,
   "metadata": {},
   "outputs": [
    {
     "name": "stdout",
     "output_type": "stream",
     "text": [
      "['admit', 'great', 'majority', 'film', 'released', 'say', '1933', 'dozen', 'major', 'silents', 'viewed', 'one', 'loved', 'crowd', 'two', 'good', 'last', 'command', 'city', 'light', 'latter', 'chaplin', 'circa', '1931br', 'apprehensive', 'one', 'humor', 'often', 'difficult', 'appreciate', 'enjoy', 'decade', 'later', 'like', 'lead', 'actor', 'thought', 'little', 'filmbr', 'one', 'intriguing', 'sequence', 'early', 'guy', 'supposed', 'get', 'deloused', 'three', 'minute', 'fully', 'dressed', 'schtick', 'background', 'perhaps', 'three', 'dozen', 'men', 'pas', 'naked', 'white', 'black', 'wwi', 'butt', 'part', 'full', 'backside', 'shown', 'early', 'variation', 'beefcake', 'courtesy', 'howard', 'hughes']\n"
     ]
    }
   ],
   "source": [
    "#retirer les tokens de moins de 3 lettres (génère du bruit)\n",
    "corpus_sw = [[mot for mot in doc if len(mot) >= 3] for doc in corpus_sw]\n",
    "print(corpus_sw[0])"
   ]
  },
  {
   "cell_type": "markdown",
   "metadata": {},
   "source": [
    "## Topic modeling avec Gensim"
   ]
  },
  {
   "cell_type": "code",
   "execution_count": 20,
   "metadata": {},
   "outputs": [
    {
     "name": "stdout",
     "output_type": "stream",
     "text": [
      "Dictionary<321 unique tokens: ['1931br', '1933', 'actor', 'admit', 'appreciate']...>\n"
     ]
    }
   ],
   "source": [
    "#construction d'un dictionnaire des tokens\n",
    "from gensim.corpora import Dictionary\n",
    "dico = Dictionary(corpus_sw)\n",
    "print(dico)"
   ]
  },
  {
   "cell_type": "code",
   "execution_count": 21,
   "metadata": {},
   "outputs": [
    {
     "name": "stdout",
     "output_type": "stream",
     "text": [
      "{'1931br': 0, '1933': 1, 'actor': 2, 'admit': 3, 'appreciate': 4, 'apprehensive': 5, 'background': 6, 'backside': 7, 'beefcake': 8, 'black': 9, 'butt': 10, 'chaplin': 11, 'circa': 12, 'city': 13, 'command': 14, 'courtesy': 15, 'crowd': 16, 'decade': 17, 'deloused': 18, 'difficult': 19, 'dozen': 20, 'dressed': 21, 'early': 22, 'enjoy': 23, 'film': 24, 'filmbr': 25, 'full': 26, 'fully': 27, 'get': 28, 'good': 29, 'great': 30, 'guy': 31, 'howard': 32, 'hughes': 33, 'humor': 34, 'intriguing': 35, 'last': 36, 'later': 37, 'latter': 38, 'lead': 39, 'light': 40, 'like': 41, 'little': 42, 'loved': 43, 'major': 44, 'majority': 45, 'men': 46, 'minute': 47, 'naked': 48, 'often': 49, 'one': 50, 'part': 51, 'pas': 52, 'perhaps': 53, 'released': 54, 'say': 55, 'schtick': 56, 'sequence': 57, 'shown': 58, 'silents': 59, 'supposed': 60, 'thought': 61, 'three': 62, 'two': 63, 'variation': 64, 'viewed': 65, 'white': 66, 'wwi': 67, 'adventure': 68, 'adventuremeeting': 69, 'aka': 70, 'along': 71, 'american': 72, 'another': 73, 'army': 74, 'astor': 75, 'beat': 76, 'best': 77, 'boarding': 78, 'boyd': 79, 'buddy': 80, 'camp': 81, 'cassidy': 82, 'category': 83, 'chemistry': 84, 'comedy': 85, 'constantinople': 86, 'definitely': 87, 'despite': 88, 'direction': 89, 'director': 90, 'duo': 91, 'end': 92, 'entertaining': 93, 'escape': 94, 'escapeaccidentally': 95, 'far': 96, 'filmsbr': 97, 'forgotten': 98, 'fronta': 99, 'funny': 100, 'german': 101, 'harold': 102, 'hopalong': 103, 'however': 104, 'lloyd': 105, 'long': 106, 'longer': 107, 'lookespecially': 108, 'louis': 109, 'love': 110, 'make': 111, 'manage': 112, 'managed': 113, 'mary': 114, 'milestone': 115, 'oddly': 116, 'oscar': 117, 'picture': 118, 'placed': 119, 'plot': 120, 'prison': 121, 'prisoner': 122, 'quiet': 123, 'quite': 124, 'rather': 125, 'round': 126, 'script': 127, 'sexy': 128, 'silent': 129, 'silly': 130, 'speedy': 131, 'still': 132, 'story': 133, 'strange': 134, 'stupid': 135, 'superior': 136, 'team': 137, 'train': 138, 'turkish': 139, 'usedas': 140, 'walheim': 141, 'war': 142, 'way': 143, 'waybr': 144, 'well': 145, 'western': 146, 'william': 147, 'wolheim': 148, 'worked': 149, 'worth': 150, 'would': 151, 'year': 152, '92327': 153, 'actually': 154, 'agree': 155, 'allow': 156, 'almost': 157, 'appeal': 158, 'appear': 159, 'appears': 160, 'arab': 161, 'arabia': 162, 'arabian': 163, 'astorbr': 164, 'beautifully': 165, 'becomes': 166, 'big': 167, 'bit': 168, 'blank': 169, 'board': 170, 'boris': 171, 'bound': 172, 'caucasian': 173, 'changed': 174, 'character': 175, 'comic': 176, 'could': 177, 'course': 178, 'creates': 179, 'damaged': 180, 'didnt': 181, 'different': 182, 'directed': 183, 'dont': 184, 'east': 185, 'effect': 186, 'enough': 187, 'even': 188, 'event': 189, 'eventually': 190, 'example': 191, 'exchanged': 192, 'expect': 193, 'extra': 194, 'fill': 195, 'find': 196, 'guessing': 197, 'happens': 198, 'hear': 199, 'herded': 200, 'humorously': 201, 'interest': 202, 'isnt': 203, 'karloff': 204, 'knight': 205, 'lewis': 206, 'locale': 207, 'look': 208, 'lot': 209, 'many': 210, 'maybe': 211, 'middle': 212, 'might': 213, 'mind': 214, 'money': 215, 'moving': 216, 'mystery': 217, 'nude': 218, 'pair': 219, 'parade': 220, 'particular': 221, 'performance': 222, 'photographed': 223, 'place': 224, 'point': 225, 'pow': 226, 'preserved': 227, 'princess': 228, 'purser': 229, 'referred': 230, 'rescue': 231, 'romantic': 232, 'room': 233, 'scene': 234, 'set': 235, 'several': 236, 'ship': 237, 'shower': 238, 'soldier': 239, 'something': 240, 'speak': 241, 'stage': 242, 'stand': 243, 'star': 244, 'start': 245, 'strong': 246, 'thereabouts': 247, 'timebr': 248, 'title': 249, 'tripping': 250, 'trough': 251, 'trying': 252, 'turn': 253, 'understand': 254, 'understandable': 255, 'veiled': 256, 'visual': 257, 'waist': 258, 'watch': 259, 'win': 260, 'woman': 261, 'wonderful': 262, 'wondering': 263, 'world': 264, 'angle': 265, 'apparently': 266, 'became': 267, 'bible': 268, 'bill': 269, 'brilliancebr': 270, 'camera': 271, 'career': 272, 'classic': 273, 'come': 274, 'covered': 275, 'entertainment': 276, 'explanation': 277, 'expression': 278, 'fan': 279, 'found': 280, 'geography': 281, 'grab': 282, 'havebr': 283, 'hollywood': 284, 'household': 285, 'ian': 286, 'indicate': 287, 'intertitles': 288, 'inventive': 289, 'keith': 290, 'made': 291, 'movie': 292, 'much': 293, 'name': 294, 'naturally': 295, 'never': 296, 'onebr': 297, 'opportunity': 298, 'plus': 299, 'priceless': 300, 'probably': 301, 'product': 302, 'realism': 303, 'rolesbr': 304, 'showed': 305, 'suave': 306, 'superb': 307, 'talentbr': 308, 'turner': 309, 'urge': 310, 'use': 311, 'villain': 312, 'whisper': 313, 'whole': 314, 'without': 315, 'wollheim': 316, 'wollheims': 317, 'wont': 318, 'word': 319, 'worthwhilebr': 320}\n"
     ]
    }
   ],
   "source": [
    "#list des tokens et leurs numéros internes\n",
    "print(dico.token2id)"
   ]
  },
  {
   "cell_type": "code",
   "execution_count": 22,
   "metadata": {},
   "outputs": [
    {
     "name": "stdout",
     "output_type": "stream",
     "text": [
      "['1931br', '1933', 'actor', 'admit', 'appreciate', 'apprehensive', 'background', 'backside', 'beefcake', 'black', 'butt', 'chaplin', 'circa', 'city', 'command', 'courtesy', 'crowd', 'decade', 'deloused', 'difficult', 'dozen', 'dozen', 'dressed', 'early', 'early', 'enjoy', 'film', 'filmbr', 'full', 'fully', 'get', 'good', 'great', 'guy', 'howard', 'hughes', 'humor', 'intriguing', 'last', 'later', 'latter', 'lead', 'light', 'like', 'little', 'loved', 'major', 'majority', 'men', 'minute', 'naked', 'often', 'one', 'one', 'one', 'part', 'pas', 'perhaps', 'released', 'say', 'schtick', 'sequence', 'shown', 'silents', 'supposed', 'thought', 'three', 'three', 'two', 'variation', 'viewed', 'white', 'wwi']\n",
      "\n",
      "\n",
      "[(0, 1), (1, 1), (2, 1), (3, 1), (4, 1), (5, 1), (6, 1), (7, 1), (8, 1), (9, 1), (10, 1), (11, 1), (12, 1), (13, 1), (14, 1), (15, 1), (16, 1), (17, 1), (18, 1), (19, 1), (20, 2), (21, 1), (22, 2), (23, 1), (24, 1), (25, 1), (26, 1), (27, 1), (28, 1), (29, 1), (30, 1), (31, 1), (32, 1), (33, 1), (34, 1), (35, 1), (36, 1), (37, 1), (38, 1), (39, 1), (40, 1), (41, 1), (42, 1), (43, 1), (44, 1), (45, 1), (46, 1), (47, 1), (48, 1), (49, 1), (50, 3), (51, 1), (52, 1), (53, 1), (54, 1), (55, 1), (56, 1), (57, 1), (58, 1), (59, 1), (60, 1), (61, 1), (62, 2), (63, 1), (64, 1), (65, 1), (66, 1), (67, 1)]\n"
     ]
    }
   ],
   "source": [
    "#représentation bag of words des documents\n",
    "corpus_bow = [dico.doc2bow(doc) for doc in corpus_sw]\n",
    "\n",
    "#identification\n",
    "print(sorted(corpus_sw[0]))\n",
    "\n",
    "#et en bow\n",
    "print('\\n')\n",
    "print(corpus_bow[0])"
   ]
  },
  {
   "cell_type": "code",
   "execution_count": 23,
   "metadata": {},
   "outputs": [],
   "source": [
    "#LDA\n",
    "#Latent Dirichlet Allocation\n",
    "from gensim.models import LdaModel\n",
    "lda = LdaModel(corpus=corpus_bow,id2word=dico, num_topics=5)"
   ]
  },
  {
   "cell_type": "code",
   "execution_count": 35,
   "metadata": {},
   "outputs": [
    {
     "data": {
      "text/plain": [
       "'film'"
      ]
     },
     "execution_count": 35,
     "metadata": {},
     "output_type": "execute_result"
    }
   ],
   "source": [
    "#affichage des topics\n",
    "lda.show_topic(0)[0][0]"
   ]
  },
  {
   "cell_type": "code",
   "execution_count": 25,
   "metadata": {},
   "outputs": [
    {
     "data": {
      "text/plain": [
       "[(0, 0.00043915943),\n",
       " (1, 0.002898781),\n",
       " (2, 5.2292784e-05),\n",
       " (3, 9.088948e-05),\n",
       " (4, 0.00017630715)]"
      ]
     },
     "execution_count": 25,
     "metadata": {},
     "output_type": "execute_result"
    }
   ],
   "source": [
    "#topic où le terme \"white\" joue un rôle\n",
    "lda.get_term_topics(\"white\", minimum_probability=0)"
   ]
  },
  {
   "cell_type": "code",
   "execution_count": 26,
   "metadata": {},
   "outputs": [
    {
     "name": "stdout",
     "output_type": "stream",
     "text": [
      "<gensim.interfaces.TransformedCorpus object at 0x0000014CAF366A70>\n"
     ]
    }
   ],
   "source": [
    "#description des documents dans l'espace des topics\n",
    "doc_topics = lda.get_document_topics(corpus_bow)\n",
    "print(doc_topics)"
   ]
  },
  {
   "cell_type": "code",
   "execution_count": 27,
   "metadata": {},
   "outputs": [
    {
     "name": "stdout",
     "output_type": "stream",
     "text": [
      "  (1, 0)\t0.9891415238380432\n",
      "  (4, 1)\t0.9933469295501709\n",
      "  (3, 2)\t0.9952985048294067\n",
      "  (3, 3)\t0.9916337728500366\n"
     ]
    }
   ],
   "source": [
    "#transformation en matrice \"sparse\"\n",
    "from gensim.matutils import corpus2csc\n",
    "mat_sparse = corpus2csc(doc_topics)\n",
    "\n",
    "#vérification\n",
    "print(mat_sparse)"
   ]
  },
  {
   "cell_type": "code",
   "execution_count": 28,
   "metadata": {},
   "outputs": [
    {
     "name": "stdout",
     "output_type": "stream",
     "text": [
      "[[0.         0.98914152 0.         0.         0.        ]\n",
      " [0.         0.         0.         0.         0.99334693]\n",
      " [0.         0.         0.         0.9952985  0.        ]\n",
      " [0.         0.         0.         0.99163377 0.        ]]\n"
     ]
    }
   ],
   "source": [
    "#transformation en matrice \"normale\"\n",
    "mat_dt = mat_sparse.T.toarray()\n",
    "print(mat_dt)"
   ]
  }
 ],
 "metadata": {
  "kernelspec": {
   "display_name": "Python 3.10.5 64-bit",
   "language": "python",
   "name": "python3"
  },
  "language_info": {
   "codemirror_mode": {
    "name": "ipython",
    "version": 3
   },
   "file_extension": ".py",
   "mimetype": "text/x-python",
   "name": "python",
   "nbconvert_exporter": "python",
   "pygments_lexer": "ipython3",
   "version": "3.10.5"
  },
  "orig_nbformat": 4,
  "vscode": {
   "interpreter": {
    "hash": "26de051ba29f2982a8de78e945f0abaf191376122a1563185a90213a26c5da77"
   }
  }
 },
 "nbformat": 4,
 "nbformat_minor": 2
}
