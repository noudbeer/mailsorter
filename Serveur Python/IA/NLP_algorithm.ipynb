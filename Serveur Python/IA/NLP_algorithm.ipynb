{
 "cells": [
  {
   "cell_type": "code",
<<<<<<< HEAD
   "execution_count": 1,
=======
   "execution_count": 3,
>>>>>>> c8bde09d2cfa95608ced48e8a4a80798052b0a36
   "metadata": {},
   "outputs": [
    {
     "name": "stdout",
     "output_type": "stream",
     "text": [
      "3.7\n"
     ]
    }
   ],
   "source": [
    "#nltk\n",
    "import nltk\n",
    "print(nltk.__version__)"
   ]
  },
  {
   "cell_type": "code",
<<<<<<< HEAD
   "execution_count": 2,
=======
   "execution_count": 4,
>>>>>>> c8bde09d2cfa95608ced48e8a4a80798052b0a36
   "metadata": {},
   "outputs": [
    {
     "name": "stdout",
     "output_type": "stream",
     "text": [
      "4.2.0\n"
     ]
    }
   ],
   "source": [
    "#gensim\n",
    "import gensim\n",
    "print(gensim.__version__)"
   ]
  },
  {
   "cell_type": "markdown",
   "metadata": {},
   "source": [
<<<<<<< HEAD
=======
    "## Import des données"
   ]
  },
  {
   "cell_type": "code",
   "execution_count": 5,
   "metadata": {},
   "outputs": [],
   "source": [
    "#pandas & dataframe\n",
    "import pandas\n",
    "df = pandas.read_excel(\"./datas.ods\")\n"
   ]
  },
  {
   "cell_type": "markdown",
   "metadata": {},
   "source": [
>>>>>>> c8bde09d2cfa95608ced48e8a4a80798052b0a36
    "## Nettoyage du corpus"
   ]
  },
  {
   "cell_type": "code",
<<<<<<< HEAD
   "execution_count": 5,
   "metadata": {},
   "outputs": [],
=======
   "execution_count": 6,
   "metadata": {},
   "outputs": [
    {
     "data": {
      "text/plain": [
       "['I admit, the great majority of films released before say 1933 are just not for me. Of the dozen or so \"major\" silents I have viewed, one I loved (The Crowd), and two were very good (The Last Command and City Lights, that latter Chaplin circa 1931).<br /><br />So I was apprehensive about this one, and humor is often difficult to appreciate (uh, enjoy) decades later. I did like the lead actors, but thought little of the film.<br /><br />One intriguing sequence. Early on, the guys are supposed to get \"de-loused\" and for about three minutes, fully dressed, do some schtick. In the background, perhaps three dozen men pass by, all naked, white and black (WWI ?), and for most, their butts, part or full backside, are shown. Was this an early variation of beefcake courtesy of Howard Hughes?',\n",
       " 'This is a very strange film that was long thought to be forgotten. It\\'s the story of two American Army buddies, William Boyd (aka \"Hopalong Cassidy\") and Louis Wolheim, and their adventures as they manage to escape from a German prison camp during WWI. However, as this is a comedy, the duo manage to make the most round about and stupid escape--accidentally boarding a train to Constantinople to be placed in a Turkish prisoner of war camp! On the way, they manage to escape once again and end up in quite the adventure--meeting sexy Mary Astor along the way.<br /><br />As far as the film goes, it was a rather funny script and despite being a silly plot, it worked rather well. The chemistry between Boyd and Wolheim worked and the film managed to be quite entertaining. Oddly, however, the film managed to beat out Harold Lloyd\\'s film, SPEEDY, for an Oscar for Best Direction for a Comedy (a category no longer used)--as SPEEDY was a superior film in most ways (it\\'s one of Lloyd\\'s best films). Still, it\\'s well worth a look--especially if you love silent films.<br /><br />By the way, director Milestone and Louis Walheim would team up just a few years later for another WWI picture, the great ALL QUIET ON THE WESTERN FRONT--a film that is definitely NOT a comedy.',\n",
       " 'William Boyd and Louis Wolheim are the \"Two Arabian Knights\" referred to in the title, humorously. The pair start out as U.S. POWs trying to escape from the Germans during World War I. Eventually, they find themselves on board a ship bound for Arabia. While tripping out to the Middle East, they rescue an Arab woman, Mary Astor, who turns out to be a Princess; and, of course, becomes a romantic interest for the \"Two Arabian Knights\". No points for guessing who wins the veiled Ms. Astor!<br /><br />The film is very well photographed and directed; Lewis Milestone has wonderful sets, and stages scenes beautifully. Of the performances, Mr. Wolheim stands out - he creates a character so understandable you can almost hear him speak, trough the film is silent. The story isn\\'t as strong as it could be - there are some events and sequences which had me wondering how and why the characters\\' locale changed. The last looks, exchanged between one of the stars and an extra, is an example of something I didn\\'t understand. Perhaps these were comic bits which had a particular appeal for the time.<br /><br />The film is damaged in several places; but there is enough preserved, in even these scenes, to allow your mind to fill in the visual blanks. Boris Karloff appears as the \"Purser\"; watch for his big scene on ship, when Wolheim goes into a room with him for some money (what actually happens is a mystery). Early in the film, there is a long scene with a lot of naked men shown from the waist up (or, thereabouts); they are POWs being herded to the showers. Director Milestone uses parades of soldiers moving to great effect; this \"shower\" scene is different in that several of the men don\\'t look as Caucasian as you might expect - maybe not as many Caucasian men would agree to appear nude? <br /><br />******* Two Arabian Knights (9/23/27) Lewis Milestone ~ William Boyd, Louis Wolheim, Mary Astor',\n",
       " 'Not very many movies come to my mind that covered as much geography as this one.<br /><br />Naturally, being a Hollywood product, there is not a whole lot of realism here, but there is a whole lot of entertainment, and a whole lot of talent.<br /><br />Louis Wollheim apparently never became a household name, but his performance in this film would indicate he should have.<br /><br />In one priceless scene, when, without inter-titles, the Bill Boyd character whispers the explanation of a word (often found in the Bible), Wollheim\\'s expression almost makes the whole movie worthwhile.<br /><br />Lewis Milestone\\'s direction is another plus. This was still early in his career, but his use of inventive angles and a moving camera showed brilliance.<br /><br />Ian Keith made a superb suave villain in one of his best roles.<br /><br />Being a silent film, \"Two Arabian Knights\" probably won\\'t be shown even on Turner Classic Movies very often, but I urge film fans to grab any opportunity to watch it.']"
      ]
     },
     "execution_count": 6,
     "metadata": {},
     "output_type": "execute_result"
    }
   ],
>>>>>>> c8bde09d2cfa95608ced48e8a4a80798052b0a36
   "source": [
    "#récupérer sous forme de liste\n",
    "\n",
<<<<<<< HEAD
    "#Minuscules\n",
    "corpus = \"La révolution industrielle a marqué une étape majeure dans l'histoire de l'humanité. Elle a permis de transformer radicalement les modes de production et de consommation, et d'améliorer significativement les conditions de vie des populations. Grâce à l'industrialisation, les pays ont pu se doter d'une économie plus dynamique et plus performante. De nouvelles technologies ont vu le jour, favorisant ainsi l'essor de l'innovation et de la recherche. La révolution industrielle a également contribué à l'émergence de grandes puissances économiques, notamment en Europe et en Amérique du Nord.\".lower()"
=======
    "corpus = \"La révolution industrielle a marqué une étape majeure dans l'histoire de l'humanité. Elle a permis de transformer radicalement les modes de production et de consommation, et d'améliorer significativement les conditions de vie des populations. Grâce à l'industrialisation, les pays ont pu se doter d'une économie plus dynamique et plus performante. De nouvelles technologies ont vu le jour, favorisant ainsi l'essor de l'innovation et de la recherche. La révolution industrielle a également contribué à l'émergence de grandes puissances économiques, notamment en Europe et en Amérique du Nord.\""
   ]
  },
  {
   "cell_type": "code",
   "execution_count": 9,
   "metadata": {},
   "outputs": [
    {
     "data": {
      "text/plain": [
       "['i admit, the great majority of films released before say 1933 are just not for me. of the dozen or so \"major\" silents i have viewed, one i loved (the crowd), and two were very good (the last command and city lights, that latter chaplin circa 1931).<br /><br />so i was apprehensive about this one, and humor is often difficult to appreciate (uh, enjoy) decades later. i did like the lead actors, but thought little of the film.<br /><br />one intriguing sequence. early on, the guys are supposed to get \"de-loused\" and for about three minutes, fully dressed, do some schtick. in the background, perhaps three dozen men pass by, all naked, white and black (wwi ?), and for most, their butts, part or full backside, are shown. was this an early variation of beefcake courtesy of howard hughes?',\n",
       " 'this is a very strange film that was long thought to be forgotten. it\\'s the story of two american army buddies, william boyd (aka \"hopalong cassidy\") and louis wolheim, and their adventures as they manage to escape from a german prison camp during wwi. however, as this is a comedy, the duo manage to make the most round about and stupid escape--accidentally boarding a train to constantinople to be placed in a turkish prisoner of war camp! on the way, they manage to escape once again and end up in quite the adventure--meeting sexy mary astor along the way.<br /><br />as far as the film goes, it was a rather funny script and despite being a silly plot, it worked rather well. the chemistry between boyd and wolheim worked and the film managed to be quite entertaining. oddly, however, the film managed to beat out harold lloyd\\'s film, speedy, for an oscar for best direction for a comedy (a category no longer used)--as speedy was a superior film in most ways (it\\'s one of lloyd\\'s best films). still, it\\'s well worth a look--especially if you love silent films.<br /><br />by the way, director milestone and louis walheim would team up just a few years later for another wwi picture, the great all quiet on the western front--a film that is definitely not a comedy.',\n",
       " 'william boyd and louis wolheim are the \"two arabian knights\" referred to in the title, humorously. the pair start out as u.s. pows trying to escape from the germans during world war i. eventually, they find themselves on board a ship bound for arabia. while tripping out to the middle east, they rescue an arab woman, mary astor, who turns out to be a princess; and, of course, becomes a romantic interest for the \"two arabian knights\". no points for guessing who wins the veiled ms. astor!<br /><br />the film is very well photographed and directed; lewis milestone has wonderful sets, and stages scenes beautifully. of the performances, mr. wolheim stands out - he creates a character so understandable you can almost hear him speak, trough the film is silent. the story isn\\'t as strong as it could be - there are some events and sequences which had me wondering how and why the characters\\' locale changed. the last looks, exchanged between one of the stars and an extra, is an example of something i didn\\'t understand. perhaps these were comic bits which had a particular appeal for the time.<br /><br />the film is damaged in several places; but there is enough preserved, in even these scenes, to allow your mind to fill in the visual blanks. boris karloff appears as the \"purser\"; watch for his big scene on ship, when wolheim goes into a room with him for some money (what actually happens is a mystery). early in the film, there is a long scene with a lot of naked men shown from the waist up (or, thereabouts); they are pows being herded to the showers. director milestone uses parades of soldiers moving to great effect; this \"shower\" scene is different in that several of the men don\\'t look as caucasian as you might expect - maybe not as many caucasian men would agree to appear nude? <br /><br />******* two arabian knights (9/23/27) lewis milestone ~ william boyd, louis wolheim, mary astor',\n",
       " 'not very many movies come to my mind that covered as much geography as this one.<br /><br />naturally, being a hollywood product, there is not a whole lot of realism here, but there is a whole lot of entertainment, and a whole lot of talent.<br /><br />louis wollheim apparently never became a household name, but his performance in this film would indicate he should have.<br /><br />in one priceless scene, when, without inter-titles, the bill boyd character whispers the explanation of a word (often found in the bible), wollheim\\'s expression almost makes the whole movie worthwhile.<br /><br />lewis milestone\\'s direction is another plus. this was still early in his career, but his use of inventive angles and a moving camera showed brilliance.<br /><br />ian keith made a superb suave villain in one of his best roles.<br /><br />being a silent film, \"two arabian knights\" probably won\\'t be shown even on turner classic movies very often, but i urge film fans to grab any opportunity to watch it.']"
      ]
     },
     "execution_count": 9,
     "metadata": {},
     "output_type": "execute_result"
    }
   ],
   "source": [
    "#Minuscules\n",
    "corpus = list(map(lambda word: word.lower(), corpus))\n",
    "corpus"
>>>>>>> c8bde09d2cfa95608ced48e8a4a80798052b0a36
   ]
  },
  {
   "cell_type": "code",
<<<<<<< HEAD
   "execution_count": 6,
=======
   "execution_count": 10,
>>>>>>> c8bde09d2cfa95608ced48e8a4a80798052b0a36
   "metadata": {},
   "outputs": [
    {
     "name": "stdout",
     "output_type": "stream",
     "text": [
<<<<<<< HEAD
      "la révolution industrielle a marqué une étape majeure dans lhistoire de lhumanité elle a permis de transformer radicalement les modes de production et de consommation et daméliorer significativement les conditions de vie des populations grâce à lindustrialisation les pays ont pu se doter dune économie plus dynamique et plus performante de nouvelles technologies ont vu le jour favorisant ainsi lessor de linnovation et de la recherche la révolution industrielle a également contribué à lémergence de grandes puissances économiques notamment en europe et en amérique du nord\n"
=======
      "['!', '\"', '#', '$', '%', '&', \"'\", '(', ')', '*', '+', ',', '-', '.', '/', ':', ';', '<', '=', '>', '?', '@', '[', '\\\\', ']', '^', '_', '`', '{', '|', '}', '~']\n"
     ]
    }
   ],
   "source": [
    "#liste des ponctuations\n",
    "import string\n",
    "ponctuations = list(string.punctuation)\n",
    "print(ponctuations)"
   ]
  },
  {
   "cell_type": "code",
   "execution_count": 11,
   "metadata": {},
   "outputs": [
    {
     "name": "stdout",
     "output_type": "stream",
     "text": [
      "i admit the great majority of films released before say 1933 are just not for me of the dozen or so major silents i have viewed one i loved the crowd and two were very good the last command and city lights that latter chaplin circa 1931br br so i was apprehensive about this one and humor is often difficult to appreciate uh enjoy decades later i did like the lead actors but thought little of the filmbr br one intriguing sequence early on the guys are supposed to get deloused and for about three minutes fully dressed do some schtick in the background perhaps three dozen men pass by all naked white and black wwi  and for most their butts part or full backside are shown was this an early variation of beefcake courtesy of howard hughes\n"
>>>>>>> c8bde09d2cfa95608ced48e8a4a80798052b0a36
     ]
    }
   ],
   "source": [
    "#retrait des ponctuations\n",
    "import re\n",
    "corpus = re.sub(r'[^\\w\\s]','',corpus)\n",
    "print(corpus)"
   ]
  },
  {
   "cell_type": "markdown",
   "metadata": {},
   "source": [
    " ## Tokénisation avec nltk"
   ]
  },
  {
   "cell_type": "code",
<<<<<<< HEAD
   "execution_count": 7,
=======
   "execution_count": 12,
>>>>>>> c8bde09d2cfa95608ced48e8a4a80798052b0a36
   "metadata": {},
   "outputs": [
    {
     "name": "stderr",
     "output_type": "stream",
     "text": [
      "[nltk_data] Downloading package punkt to\n",
      "[nltk_data]     C:\\Users\\Paul\\AppData\\Roaming\\nltk_data...\n",
<<<<<<< HEAD
      "[nltk_data]   Package punkt is already up-to-date!\n"
=======
      "[nltk_data]   Unzipping tokenizers\\punkt.zip.\n"
>>>>>>> c8bde09d2cfa95608ced48e8a4a80798052b0a36
     ]
    },
    {
     "data": {
      "text/plain": [
       "True"
      ]
     },
<<<<<<< HEAD
     "execution_count": 7,
=======
     "execution_count": 12,
>>>>>>> c8bde09d2cfa95608ced48e8a4a80798052b0a36
     "metadata": {},
     "output_type": "execute_result"
    }
   ],
   "source": [
    "#Modèle de tokénisation\n",
    "nltk.download('punkt')"
   ]
  },
  {
   "cell_type": "code",
<<<<<<< HEAD
   "execution_count": 8,
=======
   "execution_count": 13,
>>>>>>> c8bde09d2cfa95608ced48e8a4a80798052b0a36
   "metadata": {},
   "outputs": [
    {
     "name": "stdout",
     "output_type": "stream",
     "text": [
      "la révolution industrielle a marqué une étape majeure dans lhistoire de lhumanité elle a permis de transformer radicalement les modes de production et de consommation et daméliorer significativement les conditions de vie des populations grâce à lindustrialisation les pays ont pu se doter dune économie plus dynamique et plus performante de nouvelles technologies ont vu le jour favorisant ainsi lessor de linnovation et de la recherche la révolution industrielle a également contribué à lémergence de grandes puissances économiques notamment en europe et en amérique du nord\n",
      "['la', 'révolution', 'industrielle', 'a', 'marqué', 'une', 'étape', 'majeure', 'dans', 'lhistoire', 'de', 'lhumanité', 'elle', 'a', 'permis', 'de', 'transformer', 'radicalement', 'les', 'modes', 'de', 'production', 'et', 'de', 'consommation', 'et', 'daméliorer', 'significativement', 'les', 'conditions', 'de', 'vie', 'des', 'populations', 'grâce', 'à', 'lindustrialisation', 'les', 'pays', 'ont', 'pu', 'se', 'doter', 'dune', 'économie', 'plus', 'dynamique', 'et', 'plus', 'performante', 'de', 'nouvelles', 'technologies', 'ont', 'vu', 'le', 'jour', 'favorisant', 'ainsi', 'lessor', 'de', 'linnovation', 'et', 'de', 'la', 'recherche', 'la', 'révolution', 'industrielle', 'a', 'également', 'contribué', 'à', 'lémergence', 'de', 'grandes', 'puissances', 'économiques', 'notamment', 'en', 'europe', 'et', 'en', 'amérique', 'du', 'nord']\n"
     ]
    }
   ],
   "source": [
    "#transformer le corpus en list de listes (docs) par tokénisation\n",
    "from nltk.tokenize import word_tokenize\n",
    "corpus_tk = word_tokenize(corpus)\n",
    "\n",
    "#avant tokénisation\n",
    "print(corpus)\n",
    "\n",
    "#après tokénisation\n",
    "print(corpus_tk)"
   ]
  },
  {
   "cell_type": "code",
<<<<<<< HEAD
   "execution_count": 9,
=======
   "execution_count": 14,
>>>>>>> c8bde09d2cfa95608ced48e8a4a80798052b0a36
   "metadata": {},
   "outputs": [
    {
     "name": "stderr",
     "output_type": "stream",
     "text": [
      "[nltk_data] Downloading package omw-1.4 to\n",
      "[nltk_data]     C:\\Users\\Paul\\AppData\\Roaming\\nltk_data...\n",
<<<<<<< HEAD
      "[nltk_data]   Package omw-1.4 is already up-to-date!\n",
      "[nltk_data] Downloading package wordnet to\n",
      "[nltk_data]     C:\\Users\\Paul\\AppData\\Roaming\\nltk_data...\n",
      "[nltk_data]   Package wordnet is already up-to-date!\n"
=======
      "[nltk_data] Downloading package wordnet to\n",
      "[nltk_data]     C:\\Users\\Paul\\AppData\\Roaming\\nltk_data...\n"
>>>>>>> c8bde09d2cfa95608ced48e8a4a80798052b0a36
     ]
    },
    {
     "data": {
      "text/plain": [
       "True"
      ]
     },
<<<<<<< HEAD
     "execution_count": 9,
=======
     "execution_count": 14,
>>>>>>> c8bde09d2cfa95608ced48e8a4a80798052b0a36
     "metadata": {},
     "output_type": "execute_result"
    }
   ],
   "source": [
    "#importation librairie pour lemantisation\n",
    "import nltk\n",
    "nltk.download('omw-1.4')\n",
    "nltk.download('wordnet')\n"
   ]
  },
  {
   "cell_type": "code",
<<<<<<< HEAD
   "execution_count": 10,
=======
   "execution_count": 15,
>>>>>>> c8bde09d2cfa95608ced48e8a4a80798052b0a36
   "metadata": {},
   "outputs": [
    {
     "name": "stdout",
     "output_type": "stream",
     "text": [
      "['la', 'révolution', 'industrielle', 'a', 'marqué', 'une', 'étape', 'majeure', 'dans', 'lhistoire', 'de', 'lhumanité', 'elle', 'a', 'permis', 'de', 'transformer', 'radicalement', 'le', 'mode', 'de', 'production', 'et', 'de', 'consommation', 'et', 'daméliorer', 'significativement', 'le', 'condition', 'de', 'vie', 'de', 'population', 'grâce', 'à', 'lindustrialisation', 'le', 'pay', 'ont', 'pu', 'se', 'doter', 'dune', 'économie', 'plus', 'dynamique', 'et', 'plus', 'performante', 'de', 'nouvelles', 'technology', 'ont', 'vu', 'le', 'jour', 'favorisant', 'ainsi', 'lessor', 'de', 'linnovation', 'et', 'de', 'la', 'recherche', 'la', 'révolution', 'industrielle', 'a', 'également', 'contribué', 'à', 'lémergence', 'de', 'grandes', 'puissance', 'économiques', 'notamment', 'en', 'europe', 'et', 'en', 'amérique', 'du', 'nord']\n"
     ]
    }
   ],
   "source": [
    "#lemmatisation\n",
    "#normalise un texte suivant le context identifié\n",
    "# ex (suis,es,est,sommes,êtes,sont ==> être)\n",
    "\n",
    "from nltk.stem import WordNetLemmatizer\n",
    "lem = WordNetLemmatizer()\n",
    "corpus_ln = [lem.lemmatize(word) for word in corpus_tk]\n",
    "print(corpus_ln)\n"
   ]
  },
  {
   "cell_type": "code",
<<<<<<< HEAD
   "execution_count": 11,
=======
   "execution_count": 16,
>>>>>>> c8bde09d2cfa95608ced48e8a4a80798052b0a36
   "metadata": {},
   "outputs": [
    {
     "name": "stderr",
     "output_type": "stream",
     "text": [
      "[nltk_data] Downloading package stopwords to\n",
      "[nltk_data]     C:\\Users\\Paul\\AppData\\Roaming\\nltk_data...\n",
<<<<<<< HEAD
      "[nltk_data]   Package stopwords is already up-to-date!\n"
=======
      "[nltk_data]   Unzipping corpora\\stopwords.zip.\n"
>>>>>>> c8bde09d2cfa95608ced48e8a4a80798052b0a36
     ]
    },
    {
     "data": {
      "text/plain": [
       "True"
      ]
     },
<<<<<<< HEAD
     "execution_count": 11,
=======
     "execution_count": 16,
>>>>>>> c8bde09d2cfa95608ced48e8a4a80798052b0a36
     "metadata": {},
     "output_type": "execute_result"
    }
   ],
   "source": [
    "#importer la librairie des stopwords\n",
    "nltk.download('stopwords')"
   ]
  },
  {
   "cell_type": "code",
<<<<<<< HEAD
   "execution_count": 12,
=======
   "execution_count": 17,
>>>>>>> c8bde09d2cfa95608ced48e8a4a80798052b0a36
   "metadata": {},
   "outputs": [
    {
     "name": "stdout",
     "output_type": "stream",
     "text": [
      "['au', 'aux', 'avec', 'ce', 'ces', 'dans', 'de', 'des', 'du', 'elle', 'en', 'et', 'eux', 'il', 'ils', 'je', 'la', 'le', 'les', 'leur', 'lui', 'ma', 'mais', 'me', 'même', 'mes', 'moi', 'mon', 'ne', 'nos', 'notre', 'nous', 'on', 'ou', 'par', 'pas', 'pour', 'qu', 'que', 'qui', 'sa', 'se', 'ses', 'son', 'sur', 'ta', 'te', 'tes', 'toi', 'ton', 'tu', 'un', 'une', 'vos', 'votre', 'vous', 'c', 'd', 'j', 'l', 'à', 'm', 'n', 's', 't', 'y', 'été', 'étée', 'étées', 'étés', 'étant', 'étante', 'étants', 'étantes', 'suis', 'es', 'est', 'sommes', 'êtes', 'sont', 'serai', 'seras', 'sera', 'serons', 'serez', 'seront', 'serais', 'serait', 'serions', 'seriez', 'seraient', 'étais', 'était', 'étions', 'étiez', 'étaient', 'fus', 'fut', 'fûmes', 'fûtes', 'furent', 'sois', 'soit', 'soyons', 'soyez', 'soient', 'fusse', 'fusses', 'fût', 'fussions', 'fussiez', 'fussent', 'ayant', 'ayante', 'ayantes', 'ayants', 'eu', 'eue', 'eues', 'eus', 'ai', 'as', 'avons', 'avez', 'ont', 'aurai', 'auras', 'aura', 'aurons', 'aurez', 'auront', 'aurais', 'aurait', 'aurions', 'auriez', 'auraient', 'avais', 'avait', 'avions', 'aviez', 'avaient', 'eut', 'eûmes', 'eûtes', 'eurent', 'aie', 'aies', 'ait', 'ayons', 'ayez', 'aient', 'eusse', 'eusses', 'eût', 'eussions', 'eussiez', 'eussent']\n"
     ]
    }
   ],
   "source": [
    "#charger les stopwords, en anglais pour le test\n",
    "#les stopwords sont des mots qui apporte du bruit à l'analyse, on souhaite les retirer\n",
    "from nltk.corpus import stopwords\n",
    "stop_words = stopwords.words('french')\n",
    "print(stop_words)"
   ]
  },
  {
   "cell_type": "code",
   "execution_count": 73,
   "metadata": {},
   "outputs": [],
   "source": [
    "#On pourrait rajouter des stopwords lier à un théme \n",
    "#ex théme du cinéma\n",
    "# stop_words.extend(['movie', 'film','story'])"
   ]
  },
  {
   "cell_type": "code",
<<<<<<< HEAD
   "execution_count": 13,
=======
   "execution_count": 18,
>>>>>>> c8bde09d2cfa95608ced48e8a4a80798052b0a36
   "metadata": {},
   "outputs": [
    {
     "name": "stdout",
     "output_type": "stream",
     "text": [
      "['révolution', 'industrielle', 'a', 'marqué', 'étape', 'majeure', 'lhistoire', 'lhumanité', 'a', 'permis', 'transformer', 'radicalement', 'mode', 'production', 'consommation', 'daméliorer', 'significativement', 'condition', 'vie', 'population', 'grâce', 'lindustrialisation', 'pay', 'pu', 'doter', 'dune', 'économie', 'plus', 'dynamique', 'plus', 'performante', 'nouvelles', 'technology', 'vu', 'jour', 'favorisant', 'ainsi', 'lessor', 'linnovation', 'recherche', 'révolution', 'industrielle', 'a', 'également', 'contribué', 'lémergence', 'grandes', 'puissance', 'économiques', 'notamment', 'europe', 'amérique', 'nord']\n"
     ]
    }
   ],
   "source": [
    "#suppression des stopwords\n",
    "corpus_sw = [mot for mot in corpus_ln if not mot in stop_words]\n",
    "print(corpus_sw)"
   ]
  },
  {
   "cell_type": "code",
<<<<<<< HEAD
   "execution_count": 14,
=======
   "execution_count": 19,
>>>>>>> c8bde09d2cfa95608ced48e8a4a80798052b0a36
   "metadata": {},
   "outputs": [
    {
     "name": "stdout",
     "output_type": "stream",
     "text": [
      "['révolution', 'industrielle', 'marqué', 'étape', 'majeure', 'lhistoire', 'lhumanité', 'permis', 'transformer', 'radicalement', 'mode', 'production', 'consommation', 'daméliorer', 'significativement', 'condition', 'vie', 'population', 'grâce', 'lindustrialisation', 'pay', 'doter', 'dune', 'économie', 'plus', 'dynamique', 'plus', 'performante', 'nouvelles', 'technology', 'jour', 'favorisant', 'ainsi', 'lessor', 'linnovation', 'recherche', 'révolution', 'industrielle', 'également', 'contribué', 'lémergence', 'grandes', 'puissance', 'économiques', 'notamment', 'europe', 'amérique', 'nord']\n"
     ]
    }
   ],
   "source": [
    "#retirer les tokens de moins de 3 lettres (génère du bruit)\n",
    "corpus_sw = [mot for mot in corpus_sw if len(mot) >= 3]\n",
    "print(corpus_sw)"
   ]
  },
  {
   "cell_type": "markdown",
   "metadata": {},
   "source": [
    "## Topic modeling avec Gensim"
   ]
  },
  {
   "cell_type": "code",
<<<<<<< HEAD
   "execution_count": 15,
=======
   "execution_count": 20,
>>>>>>> c8bde09d2cfa95608ced48e8a4a80798052b0a36
   "metadata": {},
   "outputs": [
    {
     "name": "stdout",
     "output_type": "stream",
     "text": [
      "Dictionary<45 unique tokens: ['ainsi', 'amérique', 'condition', 'consommation', 'contribué']...>\n"
     ]
    }
   ],
   "source": [
    "#construction d'un dictionnaire des tokens\n",
    "from gensim.corpora import Dictionary\n",
    "dico = Dictionary([corpus_sw[:]])\n",
    "print(dico)"
   ]
  },
  {
   "cell_type": "code",
<<<<<<< HEAD
   "execution_count": 16,
=======
   "execution_count": 21,
>>>>>>> c8bde09d2cfa95608ced48e8a4a80798052b0a36
   "metadata": {},
   "outputs": [
    {
     "name": "stdout",
     "output_type": "stream",
     "text": [
      "{'ainsi': 0, 'amérique': 1, 'condition': 2, 'consommation': 3, 'contribué': 4, 'daméliorer': 5, 'doter': 6, 'dune': 7, 'dynamique': 8, 'europe': 9, 'favorisant': 10, 'grandes': 11, 'grâce': 12, 'industrielle': 13, 'jour': 14, 'lessor': 15, 'lhistoire': 16, 'lhumanité': 17, 'lindustrialisation': 18, 'linnovation': 19, 'lémergence': 20, 'majeure': 21, 'marqué': 22, 'mode': 23, 'nord': 24, 'notamment': 25, 'nouvelles': 26, 'pay': 27, 'performante': 28, 'permis': 29, 'plus': 30, 'population': 31, 'production': 32, 'puissance': 33, 'radicalement': 34, 'recherche': 35, 'révolution': 36, 'significativement': 37, 'technology': 38, 'transformer': 39, 'vie': 40, 'économie': 41, 'économiques': 42, 'également': 43, 'étape': 44}\n"
     ]
    }
   ],
   "source": [
    "#list des tokens et leurs numéros internes\n",
    "print(dico.token2id)"
   ]
  },
  {
   "cell_type": "code",
<<<<<<< HEAD
   "execution_count": 19,
=======
   "execution_count": 22,
>>>>>>> c8bde09d2cfa95608ced48e8a4a80798052b0a36
   "metadata": {},
   "outputs": [
    {
     "name": "stdout",
     "output_type": "stream",
     "text": [
      "['ainsi', 'amérique', 'condition', 'consommation', 'contribué', 'daméliorer', 'doter', 'dune', 'dynamique', 'europe', 'favorisant', 'grandes', 'grâce', 'industrielle', 'industrielle', 'jour', 'lessor', 'lhistoire', 'lhumanité', 'lindustrialisation', 'linnovation', 'lémergence', 'majeure', 'marqué', 'mode', 'nord', 'notamment', 'nouvelles', 'pay', 'performante', 'permis', 'plus', 'plus', 'population', 'production', 'puissance', 'radicalement', 'recherche', 'révolution', 'révolution', 'significativement', 'technology', 'transformer', 'vie', 'économie', 'économiques', 'également', 'étape']\n",
      "\n",
      "\n",
      "[[(0, 1), (1, 1), (2, 1), (3, 1), (4, 1), (5, 1), (6, 1), (7, 1), (8, 1), (9, 1), (10, 1), (11, 1), (12, 1), (13, 2), (14, 1), (15, 1), (16, 1), (17, 1), (18, 1), (19, 1), (20, 1), (21, 1), (22, 1), (23, 1), (24, 1), (25, 1), (26, 1), (27, 1), (28, 1), (29, 1), (30, 2), (31, 1), (32, 1), (33, 1), (34, 1), (35, 1), (36, 2), (37, 1), (38, 1), (39, 1), (40, 1), (41, 1), (42, 1), (43, 1), (44, 1)]]\n"
     ]
    }
   ],
   "source": [
    "#représentation bag of words des documents\n",
    "corpus_bow = [dico.doc2bow(corpus_sw)]\n",
    "\n",
    "#identification\n",
    "print(sorted(corpus_sw))\n",
    "\n",
    "#et en bow\n",
    "print('\\n')\n",
    "print(corpus_bow)"
   ]
  },
  {
   "cell_type": "code",
<<<<<<< HEAD
   "execution_count": 20,
=======
   "execution_count": 23,
>>>>>>> c8bde09d2cfa95608ced48e8a4a80798052b0a36
   "metadata": {},
   "outputs": [],
   "source": [
    "#LDA\n",
    "#Latent Dirichlet Allocation\n",
    "from gensim.models import LdaModel\n",
    "lda = LdaModel(corpus=corpus_bow,id2word=dico, num_topics=5)"
   ]
  },
  {
   "cell_type": "code",
<<<<<<< HEAD
   "execution_count": 21,
=======
   "execution_count": 35,
>>>>>>> c8bde09d2cfa95608ced48e8a4a80798052b0a36
   "metadata": {},
   "outputs": [
    {
     "data": {
      "text/plain": [
<<<<<<< HEAD
       "'industrielle'"
      ]
     },
     "execution_count": 21,
=======
       "'film'"
      ]
     },
     "execution_count": 35,
>>>>>>> c8bde09d2cfa95608ced48e8a4a80798052b0a36
     "metadata": {},
     "output_type": "execute_result"
    }
   ],
   "source": [
    "#affichage des topics\n",
    "lda.show_topic(0)[0][0]"
<<<<<<< HEAD
=======
   ]
  },
  {
   "cell_type": "code",
   "execution_count": 25,
   "metadata": {},
   "outputs": [
    {
     "data": {
      "text/plain": [
       "[(0, 0.00043915943),\n",
       " (1, 0.002898781),\n",
       " (2, 5.2292784e-05),\n",
       " (3, 9.088948e-05),\n",
       " (4, 0.00017630715)]"
      ]
     },
     "execution_count": 25,
     "metadata": {},
     "output_type": "execute_result"
    }
   ],
   "source": [
    "#topic où le terme \"white\" joue un rôle\n",
    "lda.get_term_topics(\"white\", minimum_probability=0)"
   ]
  },
  {
   "cell_type": "code",
   "execution_count": 26,
   "metadata": {},
   "outputs": [
    {
     "name": "stdout",
     "output_type": "stream",
     "text": [
      "<gensim.interfaces.TransformedCorpus object at 0x0000014CAF366A70>\n"
     ]
    }
   ],
   "source": [
    "#description des documents dans l'espace des topics\n",
    "doc_topics = lda.get_document_topics(corpus_bow)\n",
    "print(doc_topics)"
   ]
  },
  {
   "cell_type": "code",
   "execution_count": 27,
   "metadata": {},
   "outputs": [
    {
     "name": "stdout",
     "output_type": "stream",
     "text": [
      "  (1, 0)\t0.9891415238380432\n",
      "  (4, 1)\t0.9933469295501709\n",
      "  (3, 2)\t0.9952985048294067\n",
      "  (3, 3)\t0.9916337728500366\n"
     ]
    }
   ],
   "source": [
    "#transformation en matrice \"sparse\"\n",
    "from gensim.matutils import corpus2csc\n",
    "mat_sparse = corpus2csc(doc_topics)\n",
    "\n",
    "#vérification\n",
    "print(mat_sparse)"
   ]
  },
  {
   "cell_type": "code",
   "execution_count": 28,
   "metadata": {},
   "outputs": [
    {
     "name": "stdout",
     "output_type": "stream",
     "text": [
      "[[0.         0.98914152 0.         0.         0.        ]\n",
      " [0.         0.         0.         0.         0.99334693]\n",
      " [0.         0.         0.         0.9952985  0.        ]\n",
      " [0.         0.         0.         0.99163377 0.        ]]\n"
     ]
    }
   ],
   "source": [
    "#transformation en matrice \"normale\"\n",
    "mat_dt = mat_sparse.T.toarray()\n",
    "print(mat_dt)"
>>>>>>> c8bde09d2cfa95608ced48e8a4a80798052b0a36
   ]
  }
 ],
 "metadata": {
  "kernelspec": {
   "display_name": "Python 3.10.5 64-bit",
   "language": "python",
   "name": "python3"
  },
  "language_info": {
   "codemirror_mode": {
    "name": "ipython",
    "version": 3
   },
   "file_extension": ".py",
   "mimetype": "text/x-python",
   "name": "python",
   "nbconvert_exporter": "python",
   "pygments_lexer": "ipython3",
   "version": "3.10.5"
  },
  "orig_nbformat": 4,
  "vscode": {
   "interpreter": {
    "hash": "26de051ba29f2982a8de78e945f0abaf191376122a1563185a90213a26c5da77"
   }
  }
 },
 "nbformat": 4,
 "nbformat_minor": 2
}
